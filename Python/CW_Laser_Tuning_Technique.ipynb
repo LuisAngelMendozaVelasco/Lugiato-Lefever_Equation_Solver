{
 "cells": [
  {
   "cell_type": "markdown",
   "metadata": {},
   "source": [
    "# CW Laser Tuning Technique"
   ]
  },
  {
   "cell_type": "code",
   "execution_count": 1,
   "metadata": {},
   "outputs": [],
   "source": [
    "import Ring_core as rc\n",
    "import numpy as np\n",
    "from ipywidgets import interact\n",
    "import ipywidgets as widgets\n",
    "import pickle\n",
    "\n",
    "%load_ext autoreload\n",
    "%autoreload 2"
   ]
  },
  {
   "cell_type": "markdown",
   "metadata": {},
   "source": [
    "### Microresonator parameters"
   ]
  },
  {
   "cell_type": "code",
   "execution_count": 2,
   "metadata": {},
   "outputs": [],
   "source": [
    "ring_parameters =   {  \n",
    "                        'N': 511, # Number of modes. It must be odd!\n",
    "                        'n0': 2.4, # Refractive index\n",
    "                        'n2': 2.4e-19, # Nonlinear reftactive index [m^2/W]\n",
    "                        'FSR': 100e9, # Free Spectral Range [Hz]\n",
    "                        'lambda0': 1553.4e-9, # CW pump wavelength [m]\n",
    "                        'kappa': 3e8, # Optical linewidth [Hz]\n",
    "                        'eta': 0.5, # Coupling efficiency\n",
    "                        'Veff': 1e-15, # Effective mode volume [m^3]\n",
    "                        'D2': 2.5e6, # Second order dispersion [Hz]\n",
    "                        'Pin': 2 # Pump power [W]\n",
    "                    }"
   ]
  },
  {
   "cell_type": "markdown",
   "metadata": {},
   "source": [
    "## Ring 1 - Forward tuning with no effects (Multi-Soliton generation)"
   ]
  },
  {
   "cell_type": "code",
   "execution_count": 3,
   "metadata": {},
   "outputs": [],
   "source": [
    "ring1 = rc.Ring(ring_parameters) # Init Ring class"
   ]
  },
  {
   "cell_type": "markdown",
   "metadata": {},
   "source": [
    "### Simulation parameters"
   ]
  },
  {
   "cell_type": "code",
   "execution_count": 4,
   "metadata": {},
   "outputs": [],
   "source": [
    "simulation_options_ring1 =  { \n",
    "                                'Effects': None, # None or \"Thermal\" or \"Avoided mode crossings\"\n",
    "                                'Noise': False # True or False (White noise)\n",
    "                            }\n",
    "\n",
    "forward_parameters_ring1 =  {\n",
    "                                'dseta_start': -10, # Normalized detuning start\n",
    "                                'dseta_end': 45, # Normalized detuning end\n",
    "                                'dseta_step': 0.01, # Tuning step\n",
    "                                'roundtrips_step': 10, # Roundtrips per tuning step\n",
    "                                'Amu0': np.random.randn(ring_parameters['N']) + np.random.randn(ring_parameters['N']) * 1j, # Initial field\n",
    "                            }"
   ]
  },
  {
   "cell_type": "markdown",
   "metadata": {},
   "source": [
    "### Numerical simulation"
   ]
  },
  {
   "cell_type": "code",
   "execution_count": 5,
   "metadata": {},
   "outputs": [
    {
     "name": "stdout",
     "output_type": "stream",
     "text": [
      "Forward tuning: \n"
     ]
    },
    {
     "name": "stderr",
     "output_type": "stream",
     "text": [
      "100%|██████████| 5500/5500 [03:50<00:00, 23.89it/s]\n"
     ]
    }
   ],
   "source": [
    "dseta_forward_ring1, amu_forward_ring1, _ = ring1.numerical_simulation(forward_parameters_ring1, simulation_options_ring1) # Run forward simulation"
   ]
  },
  {
   "cell_type": "markdown",
   "metadata": {},
   "source": [
    "### Plot results"
   ]
  },
  {
   "cell_type": "code",
   "execution_count": 6,
   "metadata": {},
   "outputs": [
    {
     "data": {
      "application/vnd.jupyter.widget-view+json": {
       "model_id": "f0d8700ec1c846f69e9c586f9c9565fc",
       "version_major": 2,
       "version_minor": 0
      },
      "text/plain": [
       "interactive(children=(FloatSlider(value=0.0, continuous_update=False, description='dseta_snap', max=45.0, min=…"
      ]
     },
     "metadata": {},
     "output_type": "display_data"
    }
   ],
   "source": [
    "interact(lambda dseta_snap: ring1.plot_results(dseta_forward_ring1, amu_forward_ring1, dseta_snap=dseta_snap), \n",
    "         dseta_snap=widgets.FloatSlider(min=forward_parameters_ring1['dseta_start'], max=forward_parameters_ring1['dseta_end'], step=forward_parameters_ring1['dseta_step'], value=0, continuous_update=False)); # Plot results from simulation"
   ]
  },
  {
   "cell_type": "markdown",
   "metadata": {},
   "source": [
    "### Save data"
   ]
  },
  {
   "cell_type": "code",
   "execution_count": null,
   "metadata": {},
   "outputs": [],
   "source": [
    "data_ring1 =    {\n",
    "                    'ring_parameters': ring_parameters,\n",
    "                    'simulation_options': simulation_options_ring1,\n",
    "                    'forward_parameters': forward_parameters_ring1,\n",
    "                    'dseta_forward': dseta_forward_ring1,\n",
    "                    'amu_forward': amu_forward_ring1\n",
    "                }"
   ]
  },
  {
   "cell_type": "code",
   "execution_count": null,
   "metadata": {},
   "outputs": [],
   "source": [
    "with open('data_ring1.pickle', 'wb') as f:\n",
    "    pickle.dump(data_ring1, f, pickle.HIGHEST_PROTOCOL)"
   ]
  },
  {
   "cell_type": "markdown",
   "metadata": {},
   "source": [
    "## Ring 2 - Forward and backward tuning with thermal effects (Soliton switching)"
   ]
  },
  {
   "cell_type": "code",
   "execution_count": 7,
   "metadata": {},
   "outputs": [],
   "source": [
    "ring2 = rc.Ring(ring_parameters) # Init Ring class"
   ]
  },
  {
   "cell_type": "markdown",
   "metadata": {},
   "source": [
    "### Simulation parameters"
   ]
  },
  {
   "cell_type": "code",
   "execution_count": 17,
   "metadata": {},
   "outputs": [],
   "source": [
    "simulation_options_ring2 =  { \n",
    "                                'Effects': 'Thermal', # None or \"Thermal\" or \"Avoided mode crossings\"\n",
    "                                'Noise': False # True or False (White noise)\n",
    "                            }\n",
    "\n",
    "forward_parameters_ring2 =  {\n",
    "                                'dseta_start': -10, # Normalized detuning start\n",
    "                                'dseta_end': 65, # Normalized detuning end\n",
    "                                'dseta_step': 0.01, # Tuning step\n",
    "                                'roundtrips_step': 10, # Roundtrips per tuning step\n",
    "                                'Amu0': np.random.randn(ring_parameters['N']) + np.random.randn(ring_parameters['N']) * 1j, # Initial field\n",
    "                                'theta0': 0, # Initial normalized variation of temperature\n",
    "                                'tauT': 1e-8, # Thermal relaxation time [s]\n",
    "                                'n2T': 2.4e-18 # Coefficient of thermal nonlinearity [m^2/W]\n",
    "                            }\n",
    "\n",
    "backward_parameters_ring2 =  {\n",
    "                                'dseta_start': 65, # Normalized detuning start\n",
    "                                'dseta_end': 10, # Normalized detuning end\n",
    "                                'dseta_step': -0.001, # Tuning step\n",
    "                                'roundtrips_step': 20, # Roundtrips per tuning step\n",
    "                                'tauT': 1e-12, # Thermal relaxation time [s]\n",
    "                                'n2T': 2.4e-18 # Coefficient of thermal nonlinearity [m^2/W]\n",
    "                            }"
   ]
  },
  {
   "cell_type": "markdown",
   "metadata": {},
   "source": [
    "### Numerical simulation"
   ]
  },
  {
   "cell_type": "code",
   "execution_count": 18,
   "metadata": {},
   "outputs": [
    {
     "name": "stdout",
     "output_type": "stream",
     "text": [
      "Forward tuning: \n"
     ]
    },
    {
     "name": "stderr",
     "output_type": "stream",
     "text": [
      "100%|██████████| 7500/7500 [04:40<00:00, 26.74it/s]\n"
     ]
    }
   ],
   "source": [
    "dseta_forward_ring2, amu_forward_ring2, theta_forward_ring2 = ring2.numerical_simulation(forward_parameters_ring2, simulation_options_ring2) # Run forward simulation"
   ]
  },
  {
   "cell_type": "code",
   "execution_count": 20,
   "metadata": {},
   "outputs": [
    {
     "name": "stdout",
     "output_type": "stream",
     "text": [
      "Backward tuning: \n"
     ]
    },
    {
     "name": "stderr",
     "output_type": "stream",
     "text": [
      "100%|██████████| 55000/55000 [1:19:04<00:00, 11.59it/s]     \n"
     ]
    }
   ],
   "source": [
    "dseta_backward_ring2, amu_backward_ring2, theta_backward_ring2 = ring2.numerical_simulation(backward_parameters_ring2, simulation_options_ring2, dseta_forward_ring2, amu_forward_ring2, theta_forward_ring2) # Run backward simulation"
   ]
  },
  {
   "cell_type": "markdown",
   "metadata": {},
   "source": [
    "### Plot results"
   ]
  },
  {
   "cell_type": "code",
   "execution_count": 21,
   "metadata": {},
   "outputs": [
    {
     "data": {
      "application/vnd.jupyter.widget-view+json": {
       "model_id": "8c03b00aa0564e3b88094159127e21b5",
       "version_major": 2,
       "version_minor": 0
      },
      "text/plain": [
       "interactive(children=(FloatSlider(value=0.0, continuous_update=False, description='dseta_snap', max=65.0, min=…"
      ]
     },
     "metadata": {},
     "output_type": "display_data"
    }
   ],
   "source": [
    "interact(lambda dseta_snap: ring2.plot_results(dseta_forward_ring2, amu_forward_ring2, dseta_backward_ring2, amu_backward_ring2, dseta_snap=dseta_snap), \n",
    "         dseta_snap=widgets.FloatSlider(min=forward_parameters_ring2['dseta_start'], max=forward_parameters_ring2['dseta_end'], step=forward_parameters_ring2['dseta_step'], value=0, continuous_update=False)); # Plot results from simulation"
   ]
  },
  {
   "cell_type": "markdown",
   "metadata": {},
   "source": [
    "### Save data"
   ]
  },
  {
   "cell_type": "code",
   "execution_count": null,
   "metadata": {},
   "outputs": [],
   "source": [
    "data_ring2 =    {\n",
    "                    'ring_parameters': ring_parameters,\n",
    "                    'simulation_options': simulation_options_ring2,\n",
    "                    'forward_parameters': forward_parameters_ring2,\n",
    "                    'backward_parameters': backward_parameters_ring2,\n",
    "                    'dseta_forward': dseta_forward_ring2,\n",
    "                    'amu_forward': amu_forward_ring2,\n",
    "                    'theta_forward': theta_forward_ring2,\n",
    "                    'dseta_backward': dseta_backward_ring2,\n",
    "                    'amu_backward': amu_backward_ring2,\n",
    "                    'theta_backward': theta_backward_ring2,\n",
    "                }"
   ]
  },
  {
   "cell_type": "code",
   "execution_count": null,
   "metadata": {},
   "outputs": [],
   "source": [
    "with open('data_ring2.pickle', 'wb') as f:\n",
    "    pickle.dump(data_ring2, f, pickle.HIGHEST_PROTOCOL)"
   ]
  },
  {
   "cell_type": "markdown",
   "metadata": {},
   "source": [
    "## Ring 3 - Forward tuning with avoided mode crossings (Soliton crystal generation)"
   ]
  },
  {
   "cell_type": "code",
   "execution_count": 22,
   "metadata": {},
   "outputs": [],
   "source": [
    "ring_parameters['Pin'] = 0.5 # Update Pin \n",
    "ring3 = rc.Ring(ring_parameters) # Init Ring class"
   ]
  },
  {
   "cell_type": "markdown",
   "metadata": {},
   "source": [
    "### Simulation parameters"
   ]
  },
  {
   "cell_type": "code",
   "execution_count": 28,
   "metadata": {},
   "outputs": [],
   "source": [
    "simulation_options_ring3 =  { \n",
    "                                'Effects': 'Avoided mode crossings', # None or \"Thermal\" or \"Avoided mode crossings\"\n",
    "                                'Noise': False # True or False (White noise)\n",
    "                            }\n",
    "\n",
    "forward_parameters_ring3 =  {\n",
    "                                'dseta_start': -10, # Normalized detuning start\n",
    "                                'dseta_end': 12.5, # Normalized detuning end\n",
    "                                'dseta_step': 0.01, # Tuning step\n",
    "                                'roundtrips_step': 50, # Roundtrips per tuning step\n",
    "                                'Amu0': np.random.randn(ring_parameters['N']) + np.random.randn(ring_parameters['N']) * 1j, # Initial field\n",
    "                                'mode_perturbated': 15 # Position of the modal crossing\n",
    "                            }"
   ]
  },
  {
   "cell_type": "markdown",
   "metadata": {},
   "source": [
    "### Numerical simulation"
   ]
  },
  {
   "cell_type": "code",
   "execution_count": 30,
   "metadata": {},
   "outputs": [
    {
     "name": "stdout",
     "output_type": "stream",
     "text": [
      "Forward tuning: \n"
     ]
    },
    {
     "name": "stderr",
     "output_type": "stream",
     "text": [
      "100%|██████████| 2250/2250 [07:24<00:00,  5.07it/s]\n"
     ]
    }
   ],
   "source": [
    "dseta_forward_ring3, amu_forward_ring3, _ = ring3.numerical_simulation(forward_parameters_ring3, simulation_options_ring3) # Run forward simulation"
   ]
  },
  {
   "cell_type": "markdown",
   "metadata": {},
   "source": [
    "### Plot results"
   ]
  },
  {
   "cell_type": "code",
   "execution_count": 31,
   "metadata": {},
   "outputs": [
    {
     "data": {
      "application/vnd.jupyter.widget-view+json": {
       "model_id": "7f91136042824f58a0bc0154f189ce7f",
       "version_major": 2,
       "version_minor": 0
      },
      "text/plain": [
       "interactive(children=(FloatSlider(value=0.0, continuous_update=False, description='dseta_snap', max=12.5, min=…"
      ]
     },
     "metadata": {},
     "output_type": "display_data"
    }
   ],
   "source": [
    "interact(lambda dseta_snap: ring3.plot_results(dseta_forward_ring3, amu_forward_ring3, dseta_snap=dseta_snap), \n",
    "         dseta_snap=widgets.FloatSlider(min=forward_parameters_ring3['dseta_start'], max=forward_parameters_ring3['dseta_end'], step=forward_parameters_ring3['dseta_step'], value=0, continuous_update=False)); # Plot results from simulation"
   ]
  },
  {
   "cell_type": "markdown",
   "metadata": {},
   "source": [
    "### Save data"
   ]
  },
  {
   "cell_type": "code",
   "execution_count": null,
   "metadata": {},
   "outputs": [],
   "source": [
    "data_ring3 =    {\n",
    "                    'ring_parameters': ring_parameters,\n",
    "                    'simulation_options': simulation_options_ring3,\n",
    "                    'forward_parameters': forward_parameters_ring3,\n",
    "                    'dseta_forward': dseta_forward_ring3,\n",
    "                    'amu_forward': amu_forward_ring3,\n",
    "                }"
   ]
  },
  {
   "cell_type": "code",
   "execution_count": null,
   "metadata": {},
   "outputs": [],
   "source": [
    "with open('data_ring3.pickle', 'wb') as f:\n",
    "    pickle.dump(data_ring3, f, pickle.HIGHEST_PROTOCOL)"
   ]
  },
  {
   "cell_type": "markdown",
   "metadata": {},
   "source": [
    "## References"
   ]
  },
  {
   "cell_type": "markdown",
   "metadata": {},
   "source": [
    "- https://www.nature.com/articles/nphys3893\n",
    "- https://infoscience.epfl.ch/record/188349\n",
    "- https://www.nature.com/articles/s41567-019-0635-0\n",
    "- https://onlinelibrary.wiley.com/doi/full/10.1002/lpor.201600276\n",
    "- https://zenodo.org/record/3726531#.X2QMoGhKhPY"
   ]
  }
 ],
 "metadata": {
  "kernelspec": {
   "display_name": "Python 3 (ipykernel)",
   "language": "python",
   "name": "python3"
  },
  "language_info": {
   "codemirror_mode": {
    "name": "ipython",
    "version": 3
   },
   "file_extension": ".py",
   "mimetype": "text/x-python",
   "name": "python",
   "nbconvert_exporter": "python",
   "pygments_lexer": "ipython3",
   "version": "3.9.16"
  },
  "vscode": {
   "interpreter": {
    "hash": "3cfd106f785ae1e288da74ae733f9b47f8a2699db986927140be0bc196406f4c"
   }
  }
 },
 "nbformat": 4,
 "nbformat_minor": 2
}
