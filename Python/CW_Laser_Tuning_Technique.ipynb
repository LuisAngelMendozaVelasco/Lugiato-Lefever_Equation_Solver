{
 "cells": [
  {
   "cell_type": "markdown",
   "metadata": {},
   "source": [
    "# CW Laser Tuning Technique"
   ]
  },
  {
   "cell_type": "code",
   "execution_count": null,
   "metadata": {},
   "outputs": [],
   "source": [
    "import Ring as rng\n",
    "import numpy as np\n",
    "from ipywidgets import interact\n",
    "import ipywidgets as widgets\n",
    "import pickle\n",
    "\n",
    "%load_ext autoreload\n",
    "%autoreload 2"
   ]
  },
  {
   "cell_type": "markdown",
   "metadata": {},
   "source": [
    "## Ring 1 - Forward tuning with no effects (Multiple-Soliton formation)"
   ]
  },
  {
   "cell_type": "markdown",
   "metadata": {},
   "source": [
    "### Microresonator parameters"
   ]
  },
  {
   "cell_type": "code",
   "execution_count": null,
   "metadata": {},
   "outputs": [],
   "source": [
    "parameters_ring1 =  {  \n",
    "                        'N': 511, # Number of modes. It must be odd!\n",
    "                        'n0': 2.4, # Refractive index\n",
    "                        'n2': 2.4e-19, # Nonlinear reftactive index [m^2/W]\n",
    "                        'FSR': 100e9, # Free Spectral Range [Hz]\n",
    "                        'lambda0': 1553.4e-9, # CW pump wavelength [m]\n",
    "                        'kappa': 3e8, # Optical linewidth [Hz]\n",
    "                        'eta': 0.5, # Coupling efficiency\n",
    "                        'Veff': 1e-15, # Effective mode volume [m^3]\n",
    "                        'D2': 2.5e6, # Second order dispersion [Hz]\n",
    "                        'Pin': 2 # Pump power [W]\n",
    "                    }"
   ]
  },
  {
   "cell_type": "code",
   "execution_count": null,
   "metadata": {},
   "outputs": [],
   "source": [
    "ring1 = rng.Ring(parameters_ring1) # Init Ring class"
   ]
  },
  {
   "cell_type": "markdown",
   "metadata": {},
   "source": [
    "### Simulation parameters"
   ]
  },
  {
   "cell_type": "code",
   "execution_count": null,
   "metadata": {},
   "outputs": [],
   "source": [
    "simulation_options_ring1 =  { \n",
    "                                'Effects': None, # None, \"Thermal\" or \"Avoided mode crossings\"\n",
    "                                'Noise': False # True or False (White noise)\n",
    "                            }\n",
    "\n",
    "forward_parameters_ring1 =  {\n",
    "                                'dseta_start': -10, # Normalized detuning start\n",
    "                                'dseta_end': 45, # Normalized detuning end\n",
    "                                'dseta_step': 0.01, # Tuning step\n",
    "                                'roundtrips_step': 10, # Roundtrips per tuning step\n",
    "                                'Amu0': np.random.randn(parameters_ring1['N']) + 1j * np.random.randn(parameters_ring1['N']), # Initial field\n",
    "                            }"
   ]
  },
  {
   "cell_type": "markdown",
   "metadata": {},
   "source": [
    "### Numerical simulation"
   ]
  },
  {
   "cell_type": "code",
   "execution_count": null,
   "metadata": {},
   "outputs": [],
   "source": [
    "dseta_forward_ring1, amu_forward_ring1, _ = ring1.numerical_simulation(forward_parameters_ring1, simulation_options_ring1) # Run forward simulation"
   ]
  },
  {
   "cell_type": "markdown",
   "metadata": {},
   "source": [
    "### Plot results"
   ]
  },
  {
   "cell_type": "code",
   "execution_count": null,
   "metadata": {},
   "outputs": [],
   "source": [
    "interact(lambda dseta_snap: ring1.plot_results(dseta_forward_ring1, amu_forward_ring1, dseta_snap=dseta_snap), \n",
    "         dseta_snap=widgets.FloatSlider(min=forward_parameters_ring1['dseta_start'], max=forward_parameters_ring1['dseta_end'], step=forward_parameters_ring1['dseta_step'], value=0, continuous_update=False)); # Plot results from simulation"
   ]
  },
  {
   "cell_type": "markdown",
   "metadata": {},
   "source": [
    "### Save data"
   ]
  },
  {
   "cell_type": "code",
   "execution_count": null,
   "metadata": {},
   "outputs": [],
   "source": [
    "data_ring1 =    {\n",
    "                    'parameters_ring': parameters_ring1,\n",
    "                    'simulation_options': simulation_options_ring1,\n",
    "                    'forward_parameters': forward_parameters_ring1,\n",
    "                    'dseta_forward': dseta_forward_ring1,\n",
    "                    'amu_forward': amu_forward_ring1\n",
    "                }"
   ]
  },
  {
   "cell_type": "code",
   "execution_count": null,
   "metadata": {},
   "outputs": [],
   "source": [
    "!mkdir -p data\n",
    "with open('./data/data_ring1.pickle', 'wb') as f:\n",
    "    pickle.dump(data_ring1, f, pickle.HIGHEST_PROTOCOL)"
   ]
  },
  {
   "cell_type": "markdown",
   "metadata": {},
   "source": [
    "### Load data"
   ]
  },
  {
   "cell_type": "code",
   "execution_count": null,
   "metadata": {},
   "outputs": [],
   "source": [
    "with open('./data/data_ring1.pickle', 'rb') as f:\n",
    "    data = pickle.load(f)\n",
    "    parameters_ring1 = data[\"parameters_ring\"]\n",
    "    simulation_options_ring1 = data[\"simulation_options\"]\n",
    "    forward_parameters_ring1 = data[\"forward_parameters\"]\n",
    "    dseta_forward_ring1 = data[\"dseta_forward\"]\n",
    "    amu_forward_ring1 = data[\"amu_forward\"]\n",
    "\n",
    "ring1 = rng.Ring(parameters_ring1) # Init Ring class"
   ]
  },
  {
   "cell_type": "code",
   "execution_count": null,
   "metadata": {},
   "outputs": [],
   "source": [
    "interact(lambda dseta_snap: ring1.plot_results(dseta_forward_ring1, amu_forward_ring1, dseta_snap=dseta_snap), \n",
    "         dseta_snap=widgets.FloatSlider(min=forward_parameters_ring1['dseta_start'], max=forward_parameters_ring1['dseta_end'], step=forward_parameters_ring1['dseta_step'], value=0, continuous_update=False, font_size=75)); # Plot results from simulation"
   ]
  },
  {
   "cell_type": "markdown",
   "metadata": {},
   "source": [
    "## Ring 2 - Forward and backward tuning with thermal effects (Soliton switching)"
   ]
  },
  {
   "cell_type": "markdown",
   "metadata": {},
   "source": [
    "### Microresonator parameters"
   ]
  },
  {
   "cell_type": "code",
   "execution_count": null,
   "metadata": {},
   "outputs": [],
   "source": [
    "parameters_ring2 =  {  \n",
    "                        'N': 511, # Number of modes. It must be odd!\n",
    "                        'n0': 2.4, # Refractive index\n",
    "                        'n2': 2.4e-19, # Nonlinear reftactive index [m^2/W]\n",
    "                        'FSR': 100e9, # Free Spectral Range [Hz]\n",
    "                        'lambda0': 1553.4e-9, # CW pump wavelength [m]\n",
    "                        'kappa': 3e8, # Optical linewidth [Hz]\n",
    "                        'eta': 0.5, # Coupling efficiency\n",
    "                        'Veff': 1e-15, # Effective mode volume [m^3]\n",
    "                        'D2': 2.5e6, # Second order dispersion [Hz]\n",
    "                        'Pin': 2 # Pump power [W]\n",
    "                    }"
   ]
  },
  {
   "cell_type": "code",
   "execution_count": null,
   "metadata": {},
   "outputs": [],
   "source": [
    "ring2 = rng.Ring(parameters_ring2) # Init Ring class"
   ]
  },
  {
   "cell_type": "markdown",
   "metadata": {},
   "source": [
    "### Simulation parameters"
   ]
  },
  {
   "cell_type": "code",
   "execution_count": null,
   "metadata": {},
   "outputs": [],
   "source": [
    "simulation_options_ring2 =  { \n",
    "                                'Effects': 'Thermal', # None, \"Thermal\" or \"Avoided mode crossings\"\n",
    "                                'Noise': False # True or False (White noise)\n",
    "                            }\n",
    "\n",
    "forward_parameters_ring2 =  {\n",
    "                                'dseta_start': -10, # Normalized detuning start\n",
    "                                'dseta_end': 65, # Normalized detuning end\n",
    "                                'dseta_step': 0.01, # Tuning step\n",
    "                                'roundtrips_step': 10, # Roundtrips per tuning step\n",
    "                                'Amu0': np.random.randn(parameters_ring2['N']) + 1j * np.random.randn(parameters_ring2['N']), # Initial field\n",
    "                                'theta0': 0, # Initial normalized variation of temperature\n",
    "                                'tauT': 1e-8, # Thermal relaxation time [s]\n",
    "                                'n2T': 2.4e-18 # Coefficient of thermal nonlinearity [m^2/W]\n",
    "                            }\n",
    "\n",
    "backward_parameters_ring2 = {\n",
    "                                'dseta_start': 65, # Normalized detuning start\n",
    "                                'dseta_end': 10, # Normalized detuning end\n",
    "                                'dseta_step': -0.001, # Tuning step\n",
    "                                'roundtrips_step': 20, # Roundtrips per tuning step\n",
    "                                'tauT': 1e-12, # Thermal relaxation time [s]\n",
    "                                'n2T': 2.4e-18 # Coefficient of thermal nonlinearity [m^2/W]\n",
    "                            }"
   ]
  },
  {
   "cell_type": "markdown",
   "metadata": {},
   "source": [
    "### Numerical simulation"
   ]
  },
  {
   "cell_type": "code",
   "execution_count": null,
   "metadata": {},
   "outputs": [],
   "source": [
    "dseta_forward_ring2, amu_forward_ring2, theta_forward_ring2 = ring2.numerical_simulation(forward_parameters_ring2, simulation_options_ring2) # Run forward simulation"
   ]
  },
  {
   "cell_type": "code",
   "execution_count": null,
   "metadata": {},
   "outputs": [],
   "source": [
    "dseta_backward_ring2, amu_backward_ring2, theta_backward_ring2 = ring2.numerical_simulation(backward_parameters_ring2, simulation_options_ring2, dseta_forward_ring2, amu_forward_ring2, theta_forward_ring2) # Run backward simulation"
   ]
  },
  {
   "cell_type": "markdown",
   "metadata": {},
   "source": [
    "### Plot results"
   ]
  },
  {
   "cell_type": "code",
   "execution_count": null,
   "metadata": {},
   "outputs": [],
   "source": [
    "interact(lambda dseta_snap: ring2.plot_results(dseta_forward_ring2, amu_forward_ring2, dseta_backward_ring2, amu_backward_ring2, dseta_snap=dseta_snap), \n",
    "         dseta_snap=widgets.FloatSlider(min=forward_parameters_ring2['dseta_start'], max=forward_parameters_ring2['dseta_end'], step=forward_parameters_ring2['dseta_step'], value=0, continuous_update=False)); # Plot results from simulation"
   ]
  },
  {
   "cell_type": "markdown",
   "metadata": {},
   "source": [
    "### Save data"
   ]
  },
  {
   "cell_type": "code",
   "execution_count": null,
   "metadata": {},
   "outputs": [],
   "source": [
    "data_ring2 =    {\n",
    "                    'parameters_ring': parameters_ring2,\n",
    "                    'simulation_options': simulation_options_ring2,\n",
    "                    'forward_parameters': forward_parameters_ring2,\n",
    "                    'backward_parameters': backward_parameters_ring2,\n",
    "                    'dseta_forward': dseta_forward_ring2,\n",
    "                    'amu_forward': amu_forward_ring2,\n",
    "                    'theta_forward': theta_forward_ring2,\n",
    "                    'dseta_backward': dseta_backward_ring2,\n",
    "                    'amu_backward': amu_backward_ring2,\n",
    "                    'theta_backward': theta_backward_ring2,\n",
    "                }"
   ]
  },
  {
   "cell_type": "code",
   "execution_count": null,
   "metadata": {},
   "outputs": [],
   "source": [
    "!mkdir -p data\n",
    "with open('./data/data_ring2.pickle', 'wb') as f:\n",
    "    pickle.dump(data_ring2, f, pickle.HIGHEST_PROTOCOL)"
   ]
  },
  {
   "cell_type": "markdown",
   "metadata": {},
   "source": [
    "### Load data"
   ]
  },
  {
   "cell_type": "code",
   "execution_count": null,
   "metadata": {},
   "outputs": [],
   "source": [
    "with open('./data/data_ring2.pickle', 'rb') as f:\n",
    "    data = pickle.load(f)\n",
    "    parameters_ring2 = data[\"parameters_ring\"]\n",
    "    simulation_options_ring2 = data[\"simulation_options\"]\n",
    "    forward_parameters_ring2 = data[\"forward_parameters\"]\n",
    "    backward_parameters_ring2 = data[\"backward_parameters\"]\n",
    "    dseta_forward_ring2 = data[\"dseta_forward\"]\n",
    "    amu_forward_ring2 = data[\"amu_forward\"]\n",
    "    theta_forward_ring2 = data[\"theta_forward\"]\n",
    "    dseta_backward_ring2 = data[\"dseta_backward\"]\n",
    "    amu_backward_ring2 = data[\"amu_backward\"]\n",
    "    theta_backward_ring2 = data[\"theta_backward\"]\n",
    "\n",
    "ring2 = rng.Ring(parameters_ring2) # Init Ring class"
   ]
  },
  {
   "cell_type": "code",
   "execution_count": null,
   "metadata": {},
   "outputs": [],
   "source": [
    "interact(lambda dseta_snap: ring2.plot_results(dseta_forward_ring2, amu_forward_ring2, dseta_backward_ring2, amu_backward_ring2, dseta_snap=dseta_snap), \n",
    "         dseta_snap=widgets.FloatSlider(min=forward_parameters_ring2['dseta_start'], max=forward_parameters_ring2['dseta_end'], step=forward_parameters_ring2['dseta_step'], value=0, continuous_update=False)); # Plot results from simulation"
   ]
  },
  {
   "cell_type": "markdown",
   "metadata": {},
   "source": [
    "## Ring 3 - Forward tuning with avoided mode crossings (Soliton crystal formation)"
   ]
  },
  {
   "cell_type": "markdown",
   "metadata": {},
   "source": [
    "### Microresonator parameters"
   ]
  },
  {
   "cell_type": "code",
   "execution_count": null,
   "metadata": {},
   "outputs": [],
   "source": [
    "parameters_ring3 =  {  \n",
    "                        'N': 511, # Number of modes. It must be odd!\n",
    "                        'n0': 2.4, # Refractive index\n",
    "                        'n2': 2.4e-19, # Nonlinear reftactive index [m^2/W]\n",
    "                        'FSR': 100e9, # Free Spectral Range [Hz]\n",
    "                        'lambda0': 1553.4e-9, # CW pump wavelength [m]\n",
    "                        'kappa': 3e8, # Optical linewidth [Hz]\n",
    "                        'eta': 0.5, # Coupling efficiency\n",
    "                        'Veff': 1e-15, # Effective mode volume [m^3]\n",
    "                        'D2': 2.5e6, # Second order dispersion [Hz]\n",
    "                        'Pin': 0.5 # Pump power [W]\n",
    "                    }"
   ]
  },
  {
   "cell_type": "code",
   "execution_count": null,
   "metadata": {},
   "outputs": [],
   "source": [
    "ring3 = rng.Ring(parameters_ring3) # Init Ring class"
   ]
  },
  {
   "cell_type": "markdown",
   "metadata": {},
   "source": [
    "### Simulation parameters"
   ]
  },
  {
   "cell_type": "code",
   "execution_count": null,
   "metadata": {},
   "outputs": [],
   "source": [
    "simulation_options_ring3 =  { \n",
    "                                'Effects': 'Avoided mode crossings', # None, \"Thermal\" or \"Avoided mode crossings\"\n",
    "                                'Noise': False # True or False (White noise)\n",
    "                            }\n",
    "\n",
    "forward_parameters_ring3 =  {\n",
    "                                'dseta_start': -10, # Normalized detuning start\n",
    "                                'dseta_end': 12.5, # Normalized detuning end\n",
    "                                'dseta_step': 0.01, # Tuning step\n",
    "                                'roundtrips_step': 50, # Roundtrips per tuning step\n",
    "                                'Amu0': np.random.randn(parameters_ring3['N']) + 1j * np.random.randn(parameters_ring3['N']), # Initial field\n",
    "                                'mode_perturbated': 15 # Position of the modal crossing\n",
    "                            }"
   ]
  },
  {
   "cell_type": "markdown",
   "metadata": {},
   "source": [
    "### Numerical simulation"
   ]
  },
  {
   "cell_type": "code",
   "execution_count": null,
   "metadata": {},
   "outputs": [],
   "source": [
    "dseta_forward_ring3, amu_forward_ring3, _ = ring3.numerical_simulation(forward_parameters_ring3, simulation_options_ring3) # Run forward simulation"
   ]
  },
  {
   "cell_type": "markdown",
   "metadata": {},
   "source": [
    "### Plot results"
   ]
  },
  {
   "cell_type": "code",
   "execution_count": null,
   "metadata": {},
   "outputs": [],
   "source": [
    "interact(lambda dseta_snap: ring3.plot_results(dseta_forward_ring3, amu_forward_ring3, dseta_snap=dseta_snap), \n",
    "         dseta_snap=widgets.FloatSlider(min=forward_parameters_ring3['dseta_start'], max=forward_parameters_ring3['dseta_end'], step=forward_parameters_ring3['dseta_step'], value=0, continuous_update=False)); # Plot results from simulation"
   ]
  },
  {
   "cell_type": "markdown",
   "metadata": {},
   "source": [
    "### Save data"
   ]
  },
  {
   "cell_type": "code",
   "execution_count": null,
   "metadata": {},
   "outputs": [],
   "source": [
    "data_ring3 =    {\n",
    "                    'parameters_ring': parameters_ring3,\n",
    "                    'simulation_options': simulation_options_ring3,\n",
    "                    'forward_parameters': forward_parameters_ring3,\n",
    "                    'dseta_forward': dseta_forward_ring3,\n",
    "                    'amu_forward': amu_forward_ring3,\n",
    "                }"
   ]
  },
  {
   "cell_type": "code",
   "execution_count": null,
   "metadata": {},
   "outputs": [],
   "source": [
    "!mkdir -p data\n",
    "with open('./data/data_ring3.pickle', 'wb') as f:\n",
    "    pickle.dump(data_ring3, f, pickle.HIGHEST_PROTOCOL)"
   ]
  },
  {
   "cell_type": "markdown",
   "metadata": {},
   "source": [
    "### Load data"
   ]
  },
  {
   "cell_type": "code",
   "execution_count": null,
   "metadata": {},
   "outputs": [],
   "source": [
    "with open('./data/data_ring3.pickle', 'rb') as f:\n",
    "    data = pickle.load(f)\n",
    "    parameters_ring3 = data[\"parameters_ring\"]\n",
    "    simulation_options_ring3 = data[\"simulation_options\"]\n",
    "    forward_parameters_ring3 = data[\"forward_parameters\"]\n",
    "    dseta_forward_ring3 = data[\"dseta_forward\"]\n",
    "    amu_forward_ring3 = data[\"amu_forward\"]\n",
    "\n",
    "ring3 = rng.Ring(parameters_ring3) # Init Ring class"
   ]
  },
  {
   "cell_type": "code",
   "execution_count": null,
   "metadata": {},
   "outputs": [],
   "source": [
    "interact(lambda dseta_snap: ring3.plot_results(dseta_forward_ring3, amu_forward_ring3, dseta_snap=dseta_snap), \n",
    "         dseta_snap=widgets.FloatSlider(min=forward_parameters_ring3['dseta_start'], max=forward_parameters_ring3['dseta_end'], step=forward_parameters_ring3['dseta_step'], value=0, continuous_update=False, font_size=75)); # Plot results from simulation"
   ]
  }
 ],
 "metadata": {
  "kernelspec": {
   "display_name": "Python 3 (ipykernel)",
   "language": "python",
   "name": "python3"
  },
  "language_info": {
   "codemirror_mode": {
    "name": "ipython",
    "version": 3
   },
   "file_extension": ".py",
   "mimetype": "text/x-python",
   "name": "python",
   "nbconvert_exporter": "python",
   "pygments_lexer": "ipython3",
   "version": "3.12.2"
  },
  "vscode": {
   "interpreter": {
    "hash": "3cfd106f785ae1e288da74ae733f9b47f8a2699db986927140be0bc196406f4c"
   }
  }
 },
 "nbformat": 4,
 "nbformat_minor": 2
}
